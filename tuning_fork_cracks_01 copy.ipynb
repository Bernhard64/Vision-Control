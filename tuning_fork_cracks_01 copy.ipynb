{
 "cells": [
  {
   "cell_type": "code",
   "execution_count": 1,
   "metadata": {},
   "outputs": [],
   "source": [
    "pictureName = 'RGB_Testpho_01.jpg'"
   ]
  },
  {
   "cell_type": "markdown",
   "metadata": {},
   "source": [
    "Histogram Equalization Kontrast erhöhen"
   ]
  },
  {
   "cell_type": "code",
   "execution_count": 4,
   "metadata": {},
   "outputs": [],
   "source": [
    "import cv2\n",
    "\n",
    "# Bild laden\n",
    "image = cv2.imread(pictureName, cv2.IMREAD_GRAYSCALE)\n",
    "\n",
    "# Histogram Equalization\n",
    "equalized = cv2.equalizeHist(image)\n",
    "\n",
    "# Ergebnis anzeigen\n",
    "cv2.imshow('Equalized Image', equalized)\n",
    "cv2.waitKey(0)\n",
    "cv2.destroyAllWindows()"
   ]
  },
  {
   "cell_type": "markdown",
   "metadata": {},
   "source": [
    "CLAHE (Contrast Limited Adaptive Histogram Equalization)"
   ]
  },
  {
   "cell_type": "code",
   "execution_count": 10,
   "metadata": {},
   "outputs": [],
   "source": [
    "import cv2\n",
    "\n",
    "# Bild laden\n",
    "image = cv2.imread(pictureName, cv2.IMREAD_GRAYSCALE)\n",
    "\n",
    "# CLAHE-Objekt erstellen\n",
    "clahe = cv2.createCLAHE(clipLimit=2.0, tileGridSize=(4, 4))\n",
    "\n",
    "# CLAHE anwenden\n",
    "clahe_image = clahe.apply(image)\n",
    "\n",
    "# Ergebnis anzeigen\n",
    "cv2.imshow('CLAHE Image', clahe_image)\n",
    "cv2.waitKey(0)\n",
    "cv2.destroyAllWindows()\n"
   ]
  },
  {
   "cell_type": "markdown",
   "metadata": {},
   "source": [
    "Lineare Kontrastanpassung"
   ]
  },
  {
   "cell_type": "code",
   "execution_count": 5,
   "metadata": {},
   "outputs": [],
   "source": [
    "import cv2\n",
    "import numpy as np\n",
    "\n",
    "# Bild laden\n",
    "image = cv2.imread(pictureName)\n",
    "\n",
    "# Kontrast- und Helligkeitsfaktoren definieren\n",
    "alpha = 1.5  # Kontrastfaktor\n",
    "beta = 0     # Helligkeitsfaktor\n",
    "\n",
    "# Bild kontrastverstärken\n",
    "contrast_image = cv2.convertScaleAbs(image, alpha=alpha, beta=beta)\n",
    "\n",
    "# Ergebnis anzeigen\n",
    "cv2.imshow('Contrast Image', contrast_image)\n",
    "cv2.waitKey(0)\n",
    "cv2.destroyAllWindows()\n"
   ]
  },
  {
   "cell_type": "markdown",
   "metadata": {},
   "source": [
    "Gamma-Korrektur"
   ]
  },
  {
   "cell_type": "code",
   "execution_count": 6,
   "metadata": {},
   "outputs": [],
   "source": [
    "import cv2\n",
    "import numpy as np\n",
    "\n",
    "# Bild laden\n",
    "image = cv2.imread(pictureName)\n",
    "\n",
    "# Gamma-Wert definieren\n",
    "gamma = 1.5  # Werte >1 erhöhen den Kontrast, Werte <1 verringern ihn\n",
    "\n",
    "# Gamma-Korrektur anwenden\n",
    "look_up_table = np.empty((1, 256), dtype=np.uint8)\n",
    "for i in range(256):\n",
    "    look_up_table[0, i] = min(255, max(0, int((i / 255.0) ** gamma * 255.0)))\n",
    "gamma_corrected = cv2.LUT(image, look_up_table)\n",
    "\n",
    "# Ergebnis anzeigen\n",
    "cv2.imshow('Gamma Corrected Image', gamma_corrected)\n",
    "cv2.waitKey(0)\n",
    "cv2.destroyAllWindows()\n"
   ]
  },
  {
   "cell_type": "markdown",
   "metadata": {},
   "source": [
    " Vorverarbeitung"
   ]
  },
  {
   "cell_type": "code",
   "execution_count": 7,
   "metadata": {},
   "outputs": [],
   "source": [
    "import cv2\n",
    "\n",
    "image = cv2.imread(pictureName, cv2.IMREAD_GRAYSCALE)\n",
    "blurred = cv2.GaussianBlur(image, (5, 5), 0)\n"
   ]
  },
  {
   "cell_type": "markdown",
   "metadata": {},
   "source": [
    "Bildschärfung: Feine Details hervorheben."
   ]
  },
  {
   "cell_type": "code",
   "execution_count": 8,
   "metadata": {},
   "outputs": [],
   "source": [
    "kernel = np.array([[0, -1, 0], [-1, 5, -1], [0, -1, 0]])  # Schärfekernel\n",
    "sharpened = cv2.filter2D(image, -1, kernel)\n"
   ]
  },
  {
   "cell_type": "code",
   "execution_count": 9,
   "metadata": {},
   "outputs": [],
   "source": [
    "edges = cv2.Canny(sharpened, 50, 150)"
   ]
  },
  {
   "cell_type": "markdown",
   "metadata": {},
   "source": [
    "Hough-Transformation"
   ]
  },
  {
   "cell_type": "code",
   "execution_count": 10,
   "metadata": {},
   "outputs": [],
   "source": [
    "lines = cv2.HoughLinesP(edges, 1, np.pi / 180, threshold=50, minLineLength=20, maxLineGap=5)\n",
    "\n",
    "# Originalbild in Farbe laden, um Linien zu zeichnen\n",
    "image_colored = cv2.imread(pictureName)\n",
    "\n",
    "if lines is not None:\n",
    "    for line in lines:\n",
    "        x1, y1, x2, y2 = line[0]\n",
    "        cv2.line(image_colored, (x1, y1), (x2, y2), (0, 0, 255), 2)\n",
    "\n",
    "cv2.imshow('Detected Lines', image_colored)\n",
    "cv2.waitKey(0)\n",
    "cv2.destroyAllWindows()\n"
   ]
  },
  {
   "cell_type": "code",
   "execution_count": null,
   "metadata": {},
   "outputs": [],
   "source": []
  },
  {
   "cell_type": "code",
   "execution_count": null,
   "metadata": {},
   "outputs": [],
   "source": [
    "import cv2\n",
    "\n",
    "# Bild laden\n",
    "image = cv2.imread(pictureName)\n",
    "\n",
    "# Größe des Bildes herausfinden\n",
    "height, width, channels = image.shape\n",
    "\n",
    "# Ausgabe der Bildgröße\n",
    "print(f\"Breite: {width}, Höhe: {height}, Kanäle: {channels}\")"
   ]
  },
  {
   "cell_type": "code",
   "execution_count": 11,
   "metadata": {},
   "outputs": [],
   "source": [
    "import cv2\n",
    "import numpy as np\n",
    "\n",
    "# Bild laden (stelle sicher, dass der Pfad korrekt ist)\n",
    "image = cv2.imread(pictureName, cv2.IMREAD_GRAYSCALE)\n",
    "\n",
    "# Bild glätten, um Rauschen zu reduzieren\n",
    "blurred = cv2.GaussianBlur(image, (1, 1), 0)\n",
    "\n",
    "# Kanten mit Canny-Algorithmus detektieren\n",
    "edges = cv2.Canny(blurred, 50, 150, apertureSize=3)\n",
    "\n",
    "# Linien mit der Hough-Transformation detektieren\n",
    "lines = cv2.HoughLinesP(edges, 2, np.pi/180, threshold=50, minLineLength=50, maxLineGap=10)\n",
    "\n",
    "# Originalbild in Farbe laden, um Linien farbig zu zeichnen\n",
    "image_colored = cv2.imread(pictureName)\n",
    "\n",
    "# Wenn Linien gefunden wurden, zeichne sie\n",
    "if lines is not None:\n",
    "    for line in lines:\n",
    "        x1, y1, x2, y2 = line[0]\n",
    "        cv2.line(image_colored, (x1, y1), (x2, y2), (0, 255, 255), 2)\n",
    "\n",
    "# Ergebnis anzeigen\n",
    "cv2.imshow('Detected Lines', image_colored)\n",
    "cv2.waitKey(0)\n",
    "cv2.destroyAllWindows()\n"
   ]
  },
  {
   "cell_type": "code",
   "execution_count": 12,
   "metadata": {},
   "outputs": [],
   "source": [
    "import cv2\n",
    "import numpy as np\n",
    "\n",
    "# Bild laden (stelle sicher, dass der Pfad korrekt ist)\n",
    "image = cv2.imread(pictureName, cv2.IMREAD_GRAYSCALE)\n",
    "\n",
    "\n",
    "# MedianBlur (Median-Filter)\n",
    "median_blurred = cv2.medianBlur(image, 5)\n",
    "\n",
    "# BilateralFilter (Bilateraler Filter)\n",
    "bilateral = cv2.bilateralFilter(image, 9, 75, 75)\n",
    "\n",
    "# BoxFilter (Standard-Box-Filter)\n",
    "box_filtered = cv2.boxFilter(image, -1, (5, 5))\n",
    "\n",
    "# ScharrFilter (Scharr-Operator für Kanten)\n",
    "scharrx = cv2.Scharr(image, cv2.CV_64F, 1, 0)\n",
    "scharry = cv2.Scharr(image, cv2.CV_64F, 0, 1)\n",
    "\n",
    "# SobelFilter (Sobel-Operator für Kanten)\n",
    "sobelx = cv2.Sobel(image, cv2.CV_64F, 1, 0, ksize=5)  # Kanten in x-Richtung\n",
    "sobely = cv2.Sobel(image, cv2.CV_64F, 0, 1, ksize=5)  # Kanten in y-Richtung\n",
    "\n",
    "# Canny Edge Detection (Canny-Kantenerkennung)\n",
    "edges_2 = cv2.Canny(image, 100, 200)\n",
    "\n",
    "# Unsharp Masking (Bildschärfung)\n",
    "gaussian = cv2.GaussianBlur(image, (9, 9), 10.0)\n",
    "unsharp_image = cv2.addWeighted(image, 1.5, gaussian, -0.5, 0)\n",
    "\n",
    "# Morphological Filters (Morphologische Filter)\n",
    "eroded = cv2.erode(image, None, iterations=3)\n",
    "dilated = cv2.dilate(image, None, iterations=1)\n",
    "opening = cv2.morphologyEx(image, cv2.MORPH_OPEN, None)\n",
    "closing = cv2.morphologyEx(image, cv2.MORPH_CLOSE, None)\n",
    "\n",
    "# Custom Kernel Filtering (Benutzerdefinierter Filter)\n",
    "kernel = np.array([[0, -1, 0], [-1, 5,-1], [0, -1, 0]])  # Schärfekernel\n",
    "sharpened = cv2.filter2D(image, -1, kernel)\n",
    "\n",
    "# LaplacianFilter (Laplacian-Operator für Kanten)\n",
    "laplacian = cv2.Laplacian(image, cv2.CV_64F)\n",
    "\n",
    "\n",
    "# Bild glätten, um Rauschen zu reduzieren\n",
    "blurred = cv2.GaussianBlur(image, (5, 5), 0)\n",
    "\n",
    "# Kanten mit Canny-Algorithmus detektieren\n",
    "# edges = cv2.Canny(blurred, 50, 150, apertureSize=3)\n",
    "edges = cv2.Canny(blurred, 50, 150, apertureSize=3)\n",
    "\n",
    "# Linien mit der Hough-Transformation detektieren\n",
    "lines = cv2.HoughLinesP(image, 1, np.pi/180, threshold=100, minLineLength=50, maxLineGap=10)\n",
    "\n",
    "# Originalbild in Farbe laden, um Linien farbig zu zeichnen\n",
    "image_colored = cv2.imread(pictureName)\n",
    "\n",
    "\n",
    "\n",
    "# Wenn Linien gefunden wurden, zeichne sie\n",
    "if lines is not None:\n",
    "    for line in lines:\n",
    "        x1, y1, x2, y2 = line[0]\n",
    "        cv2.line(image_colored, (x1, y1), (x2, y2), (0, 0, 255), 2)\n",
    "        # cv2.line(lines, (x1, y1), (x2, y2), (0, 0, 255), 2)\n",
    "\n",
    "# Ergebnis anzeigen\n",
    "cv2.imshow('Detected Lines', image_colored)\n",
    "cv2.waitKey(0)\n",
    "cv2.destroyAllWindows()"
   ]
  },
  {
   "cell_type": "code",
   "execution_count": 17,
   "metadata": {},
   "outputs": [],
   "source": [
    "# pip install opencv-python\n",
    "# !pip install opencv-python-headless\n",
    "\n",
    "\n"
   ]
  },
  {
   "cell_type": "markdown",
   "metadata": {},
   "source": [
    "mit ROI"
   ]
  },
  {
   "cell_type": "code",
   "execution_count": 14,
   "metadata": {},
   "outputs": [
    {
     "ename": "error",
     "evalue": "OpenCV(4.10.0) D:\\a\\opencv-python\\opencv-python\\opencv\\modules\\imgproc\\src\\smooth.dispatch.cpp:617: error: (-215:Assertion failed) !_src.empty() in function 'cv::GaussianBlur'\n",
     "output_type": "error",
     "traceback": [
      "\u001b[1;31m---------------------------------------------------------------------------\u001b[0m",
      "\u001b[1;31merror\u001b[0m                                     Traceback (most recent call last)",
      "Cell \u001b[1;32mIn[14], line 13\u001b[0m\n\u001b[0;32m     10\u001b[0m roi \u001b[38;5;241m=\u001b[39m image[y_start:y_start\u001b[38;5;241m+\u001b[39mheight, x_start:x_start\u001b[38;5;241m+\u001b[39mwidth]\n\u001b[0;32m     12\u001b[0m \u001b[38;5;66;03m# Bild glätten, um Rauschen zu reduzieren\u001b[39;00m\n\u001b[1;32m---> 13\u001b[0m blurred \u001b[38;5;241m=\u001b[39m \u001b[43mcv2\u001b[49m\u001b[38;5;241;43m.\u001b[39;49m\u001b[43mGaussianBlur\u001b[49m\u001b[43m(\u001b[49m\u001b[43mroi\u001b[49m\u001b[43m,\u001b[49m\u001b[43m \u001b[49m\u001b[43m(\u001b[49m\u001b[38;5;241;43m5\u001b[39;49m\u001b[43m,\u001b[49m\u001b[43m \u001b[49m\u001b[38;5;241;43m5\u001b[39;49m\u001b[43m)\u001b[49m\u001b[43m,\u001b[49m\u001b[43m \u001b[49m\u001b[38;5;241;43m0\u001b[39;49m\u001b[43m)\u001b[49m\n\u001b[0;32m     15\u001b[0m \u001b[38;5;66;03m# Kanten mit Canny-Algorithmus detektieren\u001b[39;00m\n\u001b[0;32m     16\u001b[0m edges \u001b[38;5;241m=\u001b[39m cv2\u001b[38;5;241m.\u001b[39mCanny(blurred, \u001b[38;5;241m50\u001b[39m, \u001b[38;5;241m150\u001b[39m, apertureSize\u001b[38;5;241m=\u001b[39m\u001b[38;5;241m3\u001b[39m)\n",
      "\u001b[1;31merror\u001b[0m: OpenCV(4.10.0) D:\\a\\opencv-python\\opencv-python\\opencv\\modules\\imgproc\\src\\smooth.dispatch.cpp:617: error: (-215:Assertion failed) !_src.empty() in function 'cv::GaussianBlur'\n"
     ]
    }
   ],
   "source": [
    "import cv2\n",
    "import numpy as np\n",
    "\n",
    "# Bild laden\n",
    "image = cv2.imread('RGB_Testpho_01.jpg', cv2.IMREAD_GRAYSCALE)\n",
    "\n",
    "# Definiere das Suchfenster (ROI: Region of Interest)\n",
    "# (x_start, y_start, width, height)\n",
    "x_start, y_start, width, height = 1000, 1000, 200, 200\n",
    "roi = image[y_start:y_start+height, x_start:x_start+width]\n",
    "\n",
    "# Bild glätten, um Rauschen zu reduzieren\n",
    "blurred = cv2.GaussianBlur(roi, (5, 5), 0)\n",
    "\n",
    "# Kanten mit Canny-Algorithmus detektieren\n",
    "edges = cv2.Canny(blurred, 50, 150, apertureSize=3)\n",
    "\n",
    "# Linien mit der Hough-Transformation detektieren\n",
    "lines = cv2.HoughLinesP(edges, 1, np.pi/180, threshold=100, minLineLength=50, maxLineGap=10)\n",
    "\n",
    "# Originalbild in Farbe laden, um Linien farbig zu zeichnen\n",
    "image_colored = cv2.imread('VHX_2000002.jpg')\n",
    "\n",
    "# Wenn Linien gefunden wurden, zeichne sie in Rot im Originalbild (unter Berücksichtigung des ROI)\n",
    "if lines is not None:\n",
    "    for line in lines:\n",
    "        x1, y1, x2, y2 = line[0]\n",
    "        # Passe die Koordinaten an das Suchfenster an\n",
    "        cv2.line(image_colored, (x1 + x_start, y1 + y_start), (x2 + x_start, y2 + y_start), (0, 0, 255), 2)\n",
    "\n",
    "# Ergebnis anzeigen\n",
    "cv2.imshow('Detected Lines with ROI', image_colored)\n",
    "cv2.waitKey(0)\n",
    "cv2.destroyAllWindows()\n"
   ]
  },
  {
   "cell_type": "code",
   "execution_count": null,
   "metadata": {},
   "outputs": [],
   "source": []
  },
  {
   "cell_type": "markdown",
   "metadata": {},
   "source": []
  }
 ],
 "metadata": {
  "kernelspec": {
   "display_name": "base",
   "language": "python",
   "name": "python3"
  },
  "language_info": {
   "codemirror_mode": {
    "name": "ipython",
    "version": 3
   },
   "file_extension": ".py",
   "mimetype": "text/x-python",
   "name": "python",
   "nbconvert_exporter": "python",
   "pygments_lexer": "ipython3",
   "version": "3.12.3"
  }
 },
 "nbformat": 4,
 "nbformat_minor": 2
}
