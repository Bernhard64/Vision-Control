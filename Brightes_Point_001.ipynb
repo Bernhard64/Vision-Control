{
 "cells": [
  {
   "cell_type": "code",
   "execution_count": null,
   "metadata": {},
   "outputs": [],
   "source": []
  },
  {
   "cell_type": "markdown",
   "metadata": {},
   "source": [
    "## Brightes point in the image"
   ]
  },
  {
   "cell_type": "code",
   "execution_count": 13,
   "metadata": {},
   "outputs": [],
   "source": [
    "import cv2\n",
    "import numpy as np\n",
    "\n",
    "# Bild laden\n",
    "image = cv2.imread('RGB_Testpho_01.jpg')\n",
    "\n",
    "# Bild in Graustufen umwandeln\n",
    "gray = cv2.cvtColor(image, cv2.COLOR_BGR2GRAY)\n",
    "\n",
    "# Schwellenwert festlegen (zum Beispiel Werte von 200 bis 255)\n",
    "min_brightness = 200\n",
    "max_brightness = 255\n",
    "\n",
    "# Maske erstellen, um die hellsten Punkte zu isolieren\n",
    "_, mask = cv2.threshold(gray, min_brightness, max_brightness, cv2.THRESH_BINARY)\n",
    "\n",
    "# Die Koordinaten der hellsten Punkte finden\n",
    "coordinates = np.column_stack(np.where(mask == 255))\n",
    "\n",
    "# Bild anzeigen mit den markierten hellsten Punkten\n",
    "for coord in coordinates:\n",
    "    cv2.circle(image, (coord[1], coord[0]), 3, (0, 255, 0), -1)\n",
    "\n",
    "cv2.imshow('Brightest Points', image)\n",
    "cv2.waitKey(0)\n",
    "cv2.destroyAllWindows()\n"
   ]
  },
  {
   "cell_type": "code",
   "execution_count": 12,
   "metadata": {},
   "outputs": [],
   "source": [
    "import cv2\n",
    "import numpy as np\n",
    "\n",
    "# Bild laden\n",
    "image = cv2.imread('RGB_Testpho_01.jpg')\n",
    "\n",
    "# Bild in Graustufen umwandeln\n",
    "gray = cv2.cvtColor(image, cv2.COLOR_BGR2GRAY)\n",
    "\n",
    "# Schwellenwert festlegen (zum Beispiel Werte von 200 bis 255)\n",
    "min_brightness = 200\n",
    "max_brightness = 255\n",
    "\n",
    "# Maske erstellen, um die hellsten Punkte zu isolieren\n",
    "_, mask = cv2.threshold(gray, min_brightness, max_brightness, cv2.THRESH_BINARY)\n",
    "\n",
    "# Die Koordinaten der hellsten Punkte finden\n",
    "coordinates = np.column_stack(np.where(mask == 255))\n",
    "\n",
    "# Kreise um die hellsten Punkte zeichnen\n",
    "# for coord in coordinates:\n",
    "#    cv2.circle(image, (coord[1], coord[0]), 15, (0, 0, 255), 1)  # Zeichnet einen grünen Kreis mit einem Radius von 5\n",
    "\n",
    "# Bild anzeigen mit den markierten hellsten Punkten\n",
    "cv2.imshow('Brightest Points', image)\n",
    "cv2.waitKey(0)\n",
    "cv2.destroyAllWindows()\n"
   ]
  },
  {
   "cell_type": "code",
   "execution_count": 14,
   "metadata": {},
   "outputs": [],
   "source": [
    "# coordinates"
   ]
  },
  {
   "cell_type": "code",
   "execution_count": 16,
   "metadata": {},
   "outputs": [],
   "source": [
    "import cv2\n",
    "import numpy as np\n",
    "\n",
    "# Bild laden\n",
    "image = cv2.imread('RGB_Testpho_01.jpg')\n",
    "\n",
    "# Bild in Graustufen umwandeln\n",
    "gray = cv2.cvtColor(image, cv2.COLOR_BGR2GRAY)\n",
    "\n",
    "# Schwellenwert festlegen (zum Beispiel Werte von 200 bis 255)\n",
    "min_brightness = 200\n",
    "max_brightness = 255\n",
    "\n",
    "# Maske erstellen, um die hellsten Bereiche zu isolieren\n",
    "_, mask = cv2.threshold(gray, min_brightness, max_brightness, cv2.THRESH_BINARY)\n",
    "\n",
    "# Konturen der zusammenhängenden hellen Flächen finden\n",
    "contours, _ = cv2.findContours(mask, cv2.RETR_EXTERNAL, cv2.CHAIN_APPROX_SIMPLE)\n",
    "\n",
    "# Kreise um die zusammenhängenden Flächen zeichnen\n",
    "for contour in contours:\n",
    "    # Den umschließenden Kreis für jede Kontur berechnen\n",
    "    (x, y), radius = cv2.minEnclosingCircle(contour)\n",
    "    center = (int(x), int(y))\n",
    "    radius = int(radius)\n",
    "\n",
    "    # Den Kreis um die zusammenhängende Fläche zeichnen\n",
    "    cv2.circle(image, center, radius, (0, 0, 255), 2)  # Grüner Kreis mit Dicke 2\n",
    "\n",
    "# Bild anzeigen mit den markierten hellsten Bereichen\n",
    "cv2.imshow('Brightest Areas', image)\n",
    "cv2.waitKey(0)\n",
    "cv2.destroyAllWindows()\n"
   ]
  },
  {
   "cell_type": "code",
   "execution_count": 24,
   "metadata": {},
   "outputs": [],
   "source": [
    "import cv2\n",
    "import numpy as np\n",
    "\n",
    "# Bild laden\n",
    "image = cv2.imread('RGB_Testpho_01.jpg')\n",
    "\n",
    "# Bild in Graustufen umwandeln\n",
    "gray = cv2.cvtColor(image, cv2.COLOR_BGR2GRAY)\n",
    "\n",
    "# Schwellenwert festlegen (zum Beispiel Werte von 200 bis 255)\n",
    "min_brightness = 200\n",
    "max_brightness = 255\n",
    "\n",
    "# Maske erstellen, um die hellsten Bereiche zu isolieren\n",
    "_, mask = cv2.threshold(gray, min_brightness, max_brightness, cv2.THRESH_BINARY)\n",
    "\n",
    "# Konturen der zusammenhängenden hellen Flächen finden\n",
    "contours, _ = cv2.findContours(mask, cv2.RETR_EXTERNAL, cv2.CHAIN_APPROX_SIMPLE)\n",
    "\n",
    "# Fester Radius für die Kreise\n",
    "fixed_radius = 30  # Radius in Pixeln\n",
    "\n",
    "# Kreise um die zusammenhängenden Flächen zeichnen\n",
    "for contour in contours:\n",
    "    # Den Mittelpunkt der Fläche berechnen\n",
    "    M = cv2.moments(contour)\n",
    "    if M[\"m00\"] != 0:\n",
    "        cX = int(M[\"m10\"] / M[\"m00\"])\n",
    "        cY = int(M[\"m01\"] / M[\"m00\"])\n",
    "    else:\n",
    "        continue  # Überspringe, wenn der Mittelpunkt nicht berechnet werden kann\n",
    "    \n",
    "    # Zeichne einen festen Kreis um den Mittelpunkt\n",
    "    cv2.circle(image, (cX, cY), fixed_radius, (0, 255, 0), 2)  # Grüner Kreis mit Dicke 2\n",
    "\n",
    "# Bild anzeigen mit den markierten hellsten Bereichen\n",
    "cv2.imshow('Brightest Areas with Fixed Radius', image)\n",
    "cv2.waitKey(0)\n",
    "cv2.destroyAllWindows()\n"
   ]
  },
  {
   "cell_type": "code",
   "execution_count": 27,
   "metadata": {},
   "outputs": [],
   "source": [
    "import cv2\n",
    "import numpy as np\n",
    "\n",
    "# Bild laden\n",
    "image = cv2.imread('RGB_Testpho_01.jpg')\n",
    "\n",
    "# Bild in Graustufen umwandeln\n",
    "gray = cv2.cvtColor(image, cv2.COLOR_BGR2GRAY)\n",
    "\n",
    "# Schwellenwert festlegen (zum Beispiel Werte von 200 bis 255)\n",
    "min_brightness = 200\n",
    "max_brightness = 255\n",
    "\n",
    "# Maske erstellen, um die hellsten Bereiche zu isolieren\n",
    "_, mask = cv2.threshold(gray, min_brightness, max_brightness, cv2.THRESH_BINARY)\n",
    "\n",
    "# Konturen der zusammenhängenden hellen Flächen finden\n",
    "contours, _ = cv2.findContours(mask, cv2.RETR_EXTERNAL, cv2.CHAIN_APPROX_SIMPLE)\n",
    "\n",
    "# Fester Radius für die Kreise\n",
    "fixed_radius = 30  # Radius in Pixeln\n",
    "\n",
    "# Kreise um die zusammenhängenden Flächen zeichnen\n",
    "for contour in contours:\n",
    "    # Den Mittelpunkt der Fläche berechnen\n",
    "    M = cv2.moments(contour)\n",
    "    if M[\"m00\"] != 0:\n",
    "        cX = int(M[\"m10\"] / M[\"m00\"])\n",
    "        cY = int(M[\"m01\"] / M[\"m00\"])\n",
    "    else:\n",
    "        continue  # Überspringe, wenn der Mittelpunkt nicht berechnet werden kann\n",
    "    \n",
    "    # Zeichne einen festen Kreis um den Mittelpunkt\n",
    "    cv2.circle(image, (cX, cY), fixed_radius, (0, 255, 0), 2)  # Grüner Kreis mit Dicke 2\n",
    "\n",
    "# Gelbe Markierung für die hellsten Pixel im Bild hinzufügen\n",
    "yellow_image = image.copy()\n",
    "yellow_image[mask == 255] = [0, 0, 255]  # Setzt die hellsten Pixel auf Gelb (BGR: [0, 0, 0])\n",
    "\n",
    "# Bild anzeigen mit den markierten hellsten Bereichen und den Kreisen\n",
    "cv2.imshow('Brightest Areas with Fixed Radius and Highlighted Pixels', yellow_image)\n",
    "cv2.waitKey(0)\n",
    "cv2.destroyAllWindows()\n"
   ]
  },
  {
   "cell_type": "markdown",
   "metadata": {},
   "source": [
    "## Nearest Neighbors"
   ]
  },
  {
   "cell_type": "code",
   "execution_count": null,
   "metadata": {},
   "outputs": [],
   "source": [
    "import cv2\n",
    "import numpy as np\n",
    "from sklearn.neighbors import NearestNeighbors\n",
    "import matplotlib.pyplot as plt\n",
    "\n",
    "# Bild laden und in Graustufen umwandeln\n",
    "image = cv2.imread('RGB_Testpho_01.jpg')\n",
    "gray = cv2.cvtColor(image, cv2.COLOR_BGR2GRAY)\n",
    "\n",
    "# Schwellenwert festlegen\n",
    "min_brightness = 250\n",
    "mask = gray >= min_brightness\n",
    "\n",
    "# Koordinaten der hellsten Pixel extrahieren\n",
    "coordinates = np.column_stack(np.where(mask))\n",
    "\n",
    "# Nearest Neighbors-Algorithmus einrichten\n",
    "radius = 30  # Radius in Pixeln\n",
    "nbrs = NearestNeighbors(radius=radius).fit(coordinates)\n",
    "\n",
    "# Nearest Neighbors für jeden Punkt finden\n",
    "distances, indices = nbrs.radius_neighbors(coordinates)\n",
    "\n",
    "# Bild mit markierten Flächen anzeigen\n",
    "highlighted_image = image.copy()\n",
    "\n",
    "# Schleife über jeden Punkt und zeichne um die gefundenen Punkte\n",
    "for i, indices_i in enumerate(indices):\n",
    "    if len(indices_i) > 0:  # Wenn es Nachbarn gibt\n",
    "        for j in indices_i:\n",
    "            # Gelbe Punkte zeichnen\n",
    "            cv2.circle(highlighted_image, (coordinates[j][1], coordinates[j][0]), 1, (0, 255, 255), -1)\n",
    "        # Optional: Kreis um den Ursprungspunkt zeichnen\n",
    "        cv2.circle(highlighted_image, (coordinates[i][1], coordinates[i][0]), radius, (0, 255, 0), 1)\n",
    "\n",
    "# Bild anzeigen\n",
    "plt.imshow(cv2.cvtColor(highlighted_image, cv2.COLOR_BGR2RGB))\n",
    "plt.title('Highlighted Bright Areas and Neighboring Points')\n",
    "plt.axis('off')\n",
    "plt.show()\n"
   ]
  },
  {
   "cell_type": "markdown",
   "metadata": {},
   "source": [
    "## Cluster & Nearest Neighbors & fixed radius\n"
   ]
  },
  {
   "cell_type": "code",
   "execution_count": 44,
   "metadata": {},
   "outputs": [],
   "source": [
    "import cv2\n",
    "import numpy as np\n",
    "from sklearn.cluster import DBSCAN\n",
    "\n",
    "# Bild laden und in Graustufen umwandeln\n",
    "image = cv2.imread('RGB_Testpho_01.jpg')\n",
    "gray = cv2.cvtColor(image, cv2.COLOR_BGR2GRAY)\n",
    "\n",
    "# Schwellenwert festlegen\n",
    "min_brightness = 230\n",
    "mask = gray >= min_brightness\n",
    "\n",
    "# Koordinaten der hellsten Pixel extrahieren\n",
    "coordinates = np.column_stack(np.where(mask))\n",
    "\n",
    "# Wenn keine Punkte vorhanden sind, beenden\n",
    "if len(coordinates) == 0:\n",
    "    print(\"Keine hellen Punkte gefunden.\")\n",
    "    exit()\n",
    "\n",
    "# DBSCAN-Clusteralgorithmus anwenden, um zusammenhängende Cluster zu finden\n",
    "dbscan = DBSCAN(eps=20, min_samples=1).fit(coordinates)  # eps ist der maximale Abstand zwischen Punkten im selben Cluster\n",
    "labels = dbscan.labels_\n",
    "\n",
    "# Fester Radius für die Kreise\n",
    "fixed_radius = 25  # Radius in Pixeln\n",
    "\n",
    "# Bild mit den gezeichneten Kreisen erstellen\n",
    "highlighted_image = image.copy()\n",
    "\n",
    "# Schleife über jeden Cluster und zeichne einen Kreis\n",
    "for label in np.unique(labels):\n",
    "    # Finde die Punkte, die zu diesem Cluster gehören\n",
    "    cluster_points = coordinates[labels == label]\n",
    "    \n",
    "    # Den Mittelpunkt des Clusters berechnen\n",
    "    center = np.mean(cluster_points, axis=0)\n",
    "    # print(center)\n",
    "    \n",
    "    # Kreis um den Mittelpunkt zeichnen\n",
    "    cv2.circle(highlighted_image, (int(center[1]), int(center[0])), fixed_radius, (0, 255, 0), 2)  # Grüner Kreis mit Dicke 2\n",
    "\n",
    "# Helle Punkte ebenfalls in Gelb markieren\n",
    "highlighted_image[mask] = [0, 255, 255]  # Gelbe Markierung der hellsten Pixel\n",
    "\n",
    "# Bild anzeigen\n",
    "cv2.imshow('Cluster with Fixed Radius', highlighted_image)\n",
    "cv2.waitKey(0)\n",
    "cv2.destroyAllWindows()\n"
   ]
  },
  {
   "cell_type": "code",
   "execution_count": null,
   "metadata": {},
   "outputs": [],
   "source": [
    "len(center)"
   ]
  },
  {
   "cell_type": "markdown",
   "metadata": {},
   "source": [
    "# Kreise zusammen mit der ermittelten Fläche in einen DataFrame"
   ]
  },
  {
   "cell_type": "code",
   "execution_count": 72,
   "metadata": {},
   "outputs": [],
   "source": [
    "import cv2\n",
    "import numpy as np\n",
    "import pandas as pd\n",
    "from sklearn.cluster import DBSCAN\n",
    "\n",
    "# Bild laden und in Graustufen umwandeln\n",
    "image = cv2.imread('RGB_Testpho_01.jpg')\n",
    "gray = cv2.cvtColor(image, cv2.COLOR_BGR2GRAY)\n",
    "\n",
    "# Schwellenwert festlegen\n",
    "min_brightness = 200\n",
    "mask = gray >= min_brightness\n",
    "\n",
    "# Koordinaten der hellsten Pixel extrahieren\n",
    "coordinates = np.column_stack(np.where(mask))\n",
    "\n",
    "# Wenn keine Punkte vorhanden sind, beenden\n",
    "if len(coordinates) == 0:\n",
    "    print(\"Keine hellen Punkte gefunden.\")\n",
    "    exit()\n",
    "\n",
    "# DBSCAN-Clusteralgorithmus anwenden, um zusammenhängende Cluster zu finden\n",
    "dbscan = DBSCAN(eps=30, min_samples=1).fit(coordinates)  # eps ist der maximale Abstand zwischen Punkten im selben Cluster\n",
    "labels = dbscan.labels_\n",
    "\n",
    "# Fester Radius für die Kreise\n",
    "fixed_radius = 20  # Radius in Pixeln\n",
    "\n",
    "# Bild mit den gezeichneten Kreisen erstellen\n",
    "highlighted_image = image.copy()\n",
    "\n",
    "# Listen für die DataFrame-Daten\n",
    "centers = []\n",
    "areas = []\n",
    "\n",
    "# Schleife über jeden Cluster und zeichne einen Kreis\n",
    "for label in np.unique(labels):\n",
    "    # Finde die Punkte, die zu diesem Cluster gehören\n",
    "    cluster_points = coordinates[labels == label]\n",
    "    \n",
    "    # Den Mittelpunkt des Clusters berechnen\n",
    "    center = np.mean(cluster_points, axis=0)\n",
    "    \n",
    "    # Fläche berechnen (Anzahl der Punkte im Cluster)\n",
    "    area = len(cluster_points)\n",
    "    \n",
    "    # Daten für DataFrame speichern\n",
    "    centers.append(center)\n",
    "    areas.append(area)\n",
    "    \n",
    "    # Kreis um den Mittelpunkt zeichnen\n",
    "    cv2.circle(highlighted_image, (int(center[1]), int(center[0])), fixed_radius, (0, 255, 0), 2)  # Grüner Kreis mit Dicke 2\n",
    "\n",
    "# Helle Punkte ebenfalls in Gelb markieren\n",
    "highlighted_image[mask] = [0, 255, 255]  # Gelbe Markierung der hellsten Pixel\n",
    "\n",
    "# DataFrame erstellen\n",
    "df = pd.DataFrame(centers, columns=['Center X', 'Center Y'])\n",
    "df['Area'] = areas\n",
    "\n",
    "# DataFrame als CSV speichern mit Semikolon als Trennzeichen und Komma als Dezimaltrennzeichen\n",
    "csv_file_path = 'clusters.csv'\n",
    "df.to_csv(csv_file_path, index=False, sep=',', decimal='.')  # Dezimaltrennzeichen auf Komma setzen\n",
    "\n",
    "\n",
    "# DataFrame anzeigen\n",
    "# print(df)\n",
    "\n",
    "# Bild anzeigen\n",
    "cv2.imshow('Cluster with Fixed Radius', highlighted_image)\n",
    "cv2.waitKey(0)\n",
    "cv2.destroyAllWindows()\n"
   ]
  },
  {
   "cell_type": "markdown",
   "metadata": {},
   "source": [
    "clusters.csv"
   ]
  },
  {
   "cell_type": "code",
   "execution_count": 73,
   "metadata": {},
   "outputs": [],
   "source": [
    "import pandas as pd\n",
    "\n",
    "# Lade die CSV-Datei\n",
    "df = pd.read_csv('clusters.csv')\n",
    "\n",
    "# Nehmen wir an, die Spalten heißen 'Center X', 'Center Y' und 'Area'\n",
    "x = df['Center X']\n",
    "y = df['Center Y']\n",
    "area = df['Area']\n"
   ]
  },
  {
   "cell_type": "code",
   "execution_count": null,
   "metadata": {},
   "outputs": [],
   "source": [
    "import plotly.express as px\n",
    "\n",
    "# Erstelle das Blasendiagramm\n",
    "fig = px.scatter(\n",
    "    df,\n",
    "    x='Center X',\n",
    "    y='Center Y',\n",
    "    size='Area',  # Größe der Blasen basierend auf der Area\n",
    "    color='Area',  # Farbskala basierend auf der Area\n",
    "    color_continuous_scale='Viridis',  # Farbskala, z.B. Viridis, Cividis, etc.\n",
    "    labels={'Center X': 'X-Koordinate', 'Center Y': 'Y-Koordinate', 'Area': 'Area'},\n",
    "    size_max=60  # Maximale Größe der Blasen\n",
    ")\n",
    "\n",
    "# Füge Titel hinzu und zeige das Diagramm an\n",
    "fig.update_layout(\n",
    "    title='Blasendiagramm mit Farbskala',\n",
    "    xaxis_title='X-Koordinate',\n",
    "    yaxis_title='Y-Koordinate'\n",
    ")\n",
    "\n",
    "fig.show()"
   ]
  },
  {
   "cell_type": "markdown",
   "metadata": {},
   "source": [
    "density_heatmap"
   ]
  },
  {
   "cell_type": "code",
   "execution_count": 6,
   "metadata": {},
   "outputs": [],
   "source": [
    "import pandas as pd\n",
    "\n",
    "# Lade die CSV-Datei\n",
    "df = pd.read_csv('clusters.csv')\n",
    "\n",
    "# Nehmen wir an, die Spalten heißen 'Center X', 'Center Y' und 'Area'\n"
   ]
  },
  {
   "cell_type": "code",
   "execution_count": 90,
   "metadata": {},
   "outputs": [],
   "source": [
    "# heatmap_data"
   ]
  },
  {
   "cell_type": "code",
   "execution_count": 7,
   "metadata": {},
   "outputs": [
    {
     "data": {
      "text/html": [
       "<div>\n",
       "<style scoped>\n",
       "    .dataframe tbody tr th:only-of-type {\n",
       "        vertical-align: middle;\n",
       "    }\n",
       "\n",
       "    .dataframe tbody tr th {\n",
       "        vertical-align: top;\n",
       "    }\n",
       "\n",
       "    .dataframe thead th {\n",
       "        text-align: right;\n",
       "    }\n",
       "</style>\n",
       "<table border=\"1\" class=\"dataframe\">\n",
       "  <thead>\n",
       "    <tr style=\"text-align: right;\">\n",
       "      <th></th>\n",
       "      <th>Center X</th>\n",
       "      <th>Center Y</th>\n",
       "      <th>Area</th>\n",
       "    </tr>\n",
       "  </thead>\n",
       "  <tbody>\n",
       "    <tr>\n",
       "      <th>0</th>\n",
       "      <td>56.888462</td>\n",
       "      <td>110.776923</td>\n",
       "      <td>260</td>\n",
       "    </tr>\n",
       "    <tr>\n",
       "      <th>1</th>\n",
       "      <td>57.420455</td>\n",
       "      <td>187.208333</td>\n",
       "      <td>264</td>\n",
       "    </tr>\n",
       "    <tr>\n",
       "      <th>2</th>\n",
       "      <td>57.509506</td>\n",
       "      <td>260.509506</td>\n",
       "      <td>263</td>\n",
       "    </tr>\n",
       "    <tr>\n",
       "      <th>3</th>\n",
       "      <td>57.705179</td>\n",
       "      <td>36.290837</td>\n",
       "      <td>251</td>\n",
       "    </tr>\n",
       "    <tr>\n",
       "      <th>4</th>\n",
       "      <td>59.656442</td>\n",
       "      <td>329.404908</td>\n",
       "      <td>163</td>\n",
       "    </tr>\n",
       "  </tbody>\n",
       "</table>\n",
       "</div>"
      ],
      "text/plain": [
       "    Center X    Center Y  Area\n",
       "0  56.888462  110.776923   260\n",
       "1  57.420455  187.208333   264\n",
       "2  57.509506  260.509506   263\n",
       "3  57.705179   36.290837   251\n",
       "4  59.656442  329.404908   163"
      ]
     },
     "execution_count": 7,
     "metadata": {},
     "output_type": "execute_result"
    }
   ],
   "source": [
    "df.head(5)"
   ]
  },
  {
   "cell_type": "code",
   "execution_count": 14,
   "metadata": {},
   "outputs": [
    {
     "name": "stderr",
     "output_type": "stream",
     "text": [
      "C:\\Users\\Prozesstechnik\\AppData\\Local\\Temp\\ipykernel_9064\\766364023.py:22: FutureWarning:\n",
      "\n",
      "The default value of observed=False is deprecated and will change to observed=True in a future version of pandas. Specify observed=False to silence this warning and retain the current behavior\n",
      "\n"
     ]
    },
    {
     "data": {
      "application/vnd.plotly.v1+json": {
       "config": {
        "plotlyServerURL": "https://plot.ly"
       },
       "data": [
        {
         "coloraxis": "coloraxis",
         "hovertemplate": "x_bin: %{x}<br>y_bin: %{y}<br>Cluster ID: %{z}<extra></extra>",
         "name": "0",
         "texttemplate": "%{z}",
         "type": "heatmap",
         "x": [
          50,
          100,
          150,
          250,
          300
         ],
         "xaxis": "x",
         "y": [
          0,
          100,
          150,
          250,
          300,
          350,
          400,
          450,
          500
         ],
         "yaxis": "y",
         "z": [
          [
           251,
           31,
           164,
           355,
           489
          ],
          [
           260,
           36,
           177,
           306,
           590
          ],
          [
           264,
           42,
           195,
           281,
           533
          ],
          [
           263,
           51,
           216,
           351,
           562
          ],
          [
           163,
           38,
           202,
           341,
           546
          ],
          [
           null,
           59,
           null,
           341,
           null
          ],
          [
           46,
           null,
           219,
           null,
           509
          ],
          [
           32,
           59,
           208,
           386,
           476
          ],
          [
           26,
           117,
           199,
           426,
           400
          ]
         ]
        }
       ],
       "layout": {
        "coloraxis": {
         "colorbar": {
          "title": {
           "text": "Cluster ID"
          }
         },
         "colorscale": [
          [
           0,
           "#30123b"
          ],
          [
           0.07142857142857142,
           "#4145ab"
          ],
          [
           0.14285714285714285,
           "#4675ed"
          ],
          [
           0.21428571428571427,
           "#39a2fc"
          ],
          [
           0.2857142857142857,
           "#1bcfd4"
          ],
          [
           0.35714285714285715,
           "#24eca6"
          ],
          [
           0.42857142857142855,
           "#61fc6c"
          ],
          [
           0.5,
           "#a4fc3b"
          ],
          [
           0.5714285714285714,
           "#d1e834"
          ],
          [
           0.6428571428571429,
           "#f3c63a"
          ],
          [
           0.7142857142857143,
           "#fe9b2d"
          ],
          [
           0.7857142857142857,
           "#f36315"
          ],
          [
           0.8571428571428571,
           "#d93806"
          ],
          [
           0.9285714285714286,
           "#b11901"
          ],
          [
           1,
           "#7a0402"
          ]
         ]
        },
        "margin": {
         "t": 60
        },
        "template": {
         "data": {
          "bar": [
           {
            "error_x": {
             "color": "#2a3f5f"
            },
            "error_y": {
             "color": "#2a3f5f"
            },
            "marker": {
             "line": {
              "color": "#E5ECF6",
              "width": 0.5
             },
             "pattern": {
              "fillmode": "overlay",
              "size": 10,
              "solidity": 0.2
             }
            },
            "type": "bar"
           }
          ],
          "barpolar": [
           {
            "marker": {
             "line": {
              "color": "#E5ECF6",
              "width": 0.5
             },
             "pattern": {
              "fillmode": "overlay",
              "size": 10,
              "solidity": 0.2
             }
            },
            "type": "barpolar"
           }
          ],
          "carpet": [
           {
            "aaxis": {
             "endlinecolor": "#2a3f5f",
             "gridcolor": "white",
             "linecolor": "white",
             "minorgridcolor": "white",
             "startlinecolor": "#2a3f5f"
            },
            "baxis": {
             "endlinecolor": "#2a3f5f",
             "gridcolor": "white",
             "linecolor": "white",
             "minorgridcolor": "white",
             "startlinecolor": "#2a3f5f"
            },
            "type": "carpet"
           }
          ],
          "choropleth": [
           {
            "colorbar": {
             "outlinewidth": 0,
             "ticks": ""
            },
            "type": "choropleth"
           }
          ],
          "contour": [
           {
            "colorbar": {
             "outlinewidth": 0,
             "ticks": ""
            },
            "colorscale": [
             [
              0,
              "#0d0887"
             ],
             [
              0.1111111111111111,
              "#46039f"
             ],
             [
              0.2222222222222222,
              "#7201a8"
             ],
             [
              0.3333333333333333,
              "#9c179e"
             ],
             [
              0.4444444444444444,
              "#bd3786"
             ],
             [
              0.5555555555555556,
              "#d8576b"
             ],
             [
              0.6666666666666666,
              "#ed7953"
             ],
             [
              0.7777777777777778,
              "#fb9f3a"
             ],
             [
              0.8888888888888888,
              "#fdca26"
             ],
             [
              1,
              "#f0f921"
             ]
            ],
            "type": "contour"
           }
          ],
          "contourcarpet": [
           {
            "colorbar": {
             "outlinewidth": 0,
             "ticks": ""
            },
            "type": "contourcarpet"
           }
          ],
          "heatmap": [
           {
            "colorbar": {
             "outlinewidth": 0,
             "ticks": ""
            },
            "colorscale": [
             [
              0,
              "#0d0887"
             ],
             [
              0.1111111111111111,
              "#46039f"
             ],
             [
              0.2222222222222222,
              "#7201a8"
             ],
             [
              0.3333333333333333,
              "#9c179e"
             ],
             [
              0.4444444444444444,
              "#bd3786"
             ],
             [
              0.5555555555555556,
              "#d8576b"
             ],
             [
              0.6666666666666666,
              "#ed7953"
             ],
             [
              0.7777777777777778,
              "#fb9f3a"
             ],
             [
              0.8888888888888888,
              "#fdca26"
             ],
             [
              1,
              "#f0f921"
             ]
            ],
            "type": "heatmap"
           }
          ],
          "heatmapgl": [
           {
            "colorbar": {
             "outlinewidth": 0,
             "ticks": ""
            },
            "colorscale": [
             [
              0,
              "#0d0887"
             ],
             [
              0.1111111111111111,
              "#46039f"
             ],
             [
              0.2222222222222222,
              "#7201a8"
             ],
             [
              0.3333333333333333,
              "#9c179e"
             ],
             [
              0.4444444444444444,
              "#bd3786"
             ],
             [
              0.5555555555555556,
              "#d8576b"
             ],
             [
              0.6666666666666666,
              "#ed7953"
             ],
             [
              0.7777777777777778,
              "#fb9f3a"
             ],
             [
              0.8888888888888888,
              "#fdca26"
             ],
             [
              1,
              "#f0f921"
             ]
            ],
            "type": "heatmapgl"
           }
          ],
          "histogram": [
           {
            "marker": {
             "pattern": {
              "fillmode": "overlay",
              "size": 10,
              "solidity": 0.2
             }
            },
            "type": "histogram"
           }
          ],
          "histogram2d": [
           {
            "colorbar": {
             "outlinewidth": 0,
             "ticks": ""
            },
            "colorscale": [
             [
              0,
              "#0d0887"
             ],
             [
              0.1111111111111111,
              "#46039f"
             ],
             [
              0.2222222222222222,
              "#7201a8"
             ],
             [
              0.3333333333333333,
              "#9c179e"
             ],
             [
              0.4444444444444444,
              "#bd3786"
             ],
             [
              0.5555555555555556,
              "#d8576b"
             ],
             [
              0.6666666666666666,
              "#ed7953"
             ],
             [
              0.7777777777777778,
              "#fb9f3a"
             ],
             [
              0.8888888888888888,
              "#fdca26"
             ],
             [
              1,
              "#f0f921"
             ]
            ],
            "type": "histogram2d"
           }
          ],
          "histogram2dcontour": [
           {
            "colorbar": {
             "outlinewidth": 0,
             "ticks": ""
            },
            "colorscale": [
             [
              0,
              "#0d0887"
             ],
             [
              0.1111111111111111,
              "#46039f"
             ],
             [
              0.2222222222222222,
              "#7201a8"
             ],
             [
              0.3333333333333333,
              "#9c179e"
             ],
             [
              0.4444444444444444,
              "#bd3786"
             ],
             [
              0.5555555555555556,
              "#d8576b"
             ],
             [
              0.6666666666666666,
              "#ed7953"
             ],
             [
              0.7777777777777778,
              "#fb9f3a"
             ],
             [
              0.8888888888888888,
              "#fdca26"
             ],
             [
              1,
              "#f0f921"
             ]
            ],
            "type": "histogram2dcontour"
           }
          ],
          "mesh3d": [
           {
            "colorbar": {
             "outlinewidth": 0,
             "ticks": ""
            },
            "type": "mesh3d"
           }
          ],
          "parcoords": [
           {
            "line": {
             "colorbar": {
              "outlinewidth": 0,
              "ticks": ""
             }
            },
            "type": "parcoords"
           }
          ],
          "pie": [
           {
            "automargin": true,
            "type": "pie"
           }
          ],
          "scatter": [
           {
            "fillpattern": {
             "fillmode": "overlay",
             "size": 10,
             "solidity": 0.2
            },
            "type": "scatter"
           }
          ],
          "scatter3d": [
           {
            "line": {
             "colorbar": {
              "outlinewidth": 0,
              "ticks": ""
             }
            },
            "marker": {
             "colorbar": {
              "outlinewidth": 0,
              "ticks": ""
             }
            },
            "type": "scatter3d"
           }
          ],
          "scattercarpet": [
           {
            "marker": {
             "colorbar": {
              "outlinewidth": 0,
              "ticks": ""
             }
            },
            "type": "scattercarpet"
           }
          ],
          "scattergeo": [
           {
            "marker": {
             "colorbar": {
              "outlinewidth": 0,
              "ticks": ""
             }
            },
            "type": "scattergeo"
           }
          ],
          "scattergl": [
           {
            "marker": {
             "colorbar": {
              "outlinewidth": 0,
              "ticks": ""
             }
            },
            "type": "scattergl"
           }
          ],
          "scattermapbox": [
           {
            "marker": {
             "colorbar": {
              "outlinewidth": 0,
              "ticks": ""
             }
            },
            "type": "scattermapbox"
           }
          ],
          "scatterpolar": [
           {
            "marker": {
             "colorbar": {
              "outlinewidth": 0,
              "ticks": ""
             }
            },
            "type": "scatterpolar"
           }
          ],
          "scatterpolargl": [
           {
            "marker": {
             "colorbar": {
              "outlinewidth": 0,
              "ticks": ""
             }
            },
            "type": "scatterpolargl"
           }
          ],
          "scatterternary": [
           {
            "marker": {
             "colorbar": {
              "outlinewidth": 0,
              "ticks": ""
             }
            },
            "type": "scatterternary"
           }
          ],
          "surface": [
           {
            "colorbar": {
             "outlinewidth": 0,
             "ticks": ""
            },
            "colorscale": [
             [
              0,
              "#0d0887"
             ],
             [
              0.1111111111111111,
              "#46039f"
             ],
             [
              0.2222222222222222,
              "#7201a8"
             ],
             [
              0.3333333333333333,
              "#9c179e"
             ],
             [
              0.4444444444444444,
              "#bd3786"
             ],
             [
              0.5555555555555556,
              "#d8576b"
             ],
             [
              0.6666666666666666,
              "#ed7953"
             ],
             [
              0.7777777777777778,
              "#fb9f3a"
             ],
             [
              0.8888888888888888,
              "#fdca26"
             ],
             [
              1,
              "#f0f921"
             ]
            ],
            "type": "surface"
           }
          ],
          "table": [
           {
            "cells": {
             "fill": {
              "color": "#EBF0F8"
             },
             "line": {
              "color": "white"
             }
            },
            "header": {
             "fill": {
              "color": "#C8D4E3"
             },
             "line": {
              "color": "white"
             }
            },
            "type": "table"
           }
          ]
         },
         "layout": {
          "annotationdefaults": {
           "arrowcolor": "#2a3f5f",
           "arrowhead": 0,
           "arrowwidth": 1
          },
          "autotypenumbers": "strict",
          "coloraxis": {
           "colorbar": {
            "outlinewidth": 0,
            "ticks": ""
           }
          },
          "colorscale": {
           "diverging": [
            [
             0,
             "#8e0152"
            ],
            [
             0.1,
             "#c51b7d"
            ],
            [
             0.2,
             "#de77ae"
            ],
            [
             0.3,
             "#f1b6da"
            ],
            [
             0.4,
             "#fde0ef"
            ],
            [
             0.5,
             "#f7f7f7"
            ],
            [
             0.6,
             "#e6f5d0"
            ],
            [
             0.7,
             "#b8e186"
            ],
            [
             0.8,
             "#7fbc41"
            ],
            [
             0.9,
             "#4d9221"
            ],
            [
             1,
             "#276419"
            ]
           ],
           "sequential": [
            [
             0,
             "#0d0887"
            ],
            [
             0.1111111111111111,
             "#46039f"
            ],
            [
             0.2222222222222222,
             "#7201a8"
            ],
            [
             0.3333333333333333,
             "#9c179e"
            ],
            [
             0.4444444444444444,
             "#bd3786"
            ],
            [
             0.5555555555555556,
             "#d8576b"
            ],
            [
             0.6666666666666666,
             "#ed7953"
            ],
            [
             0.7777777777777778,
             "#fb9f3a"
            ],
            [
             0.8888888888888888,
             "#fdca26"
            ],
            [
             1,
             "#f0f921"
            ]
           ],
           "sequentialminus": [
            [
             0,
             "#0d0887"
            ],
            [
             0.1111111111111111,
             "#46039f"
            ],
            [
             0.2222222222222222,
             "#7201a8"
            ],
            [
             0.3333333333333333,
             "#9c179e"
            ],
            [
             0.4444444444444444,
             "#bd3786"
            ],
            [
             0.5555555555555556,
             "#d8576b"
            ],
            [
             0.6666666666666666,
             "#ed7953"
            ],
            [
             0.7777777777777778,
             "#fb9f3a"
            ],
            [
             0.8888888888888888,
             "#fdca26"
            ],
            [
             1,
             "#f0f921"
            ]
           ]
          },
          "colorway": [
           "#636efa",
           "#EF553B",
           "#00cc96",
           "#ab63fa",
           "#FFA15A",
           "#19d3f3",
           "#FF6692",
           "#B6E880",
           "#FF97FF",
           "#FECB52"
          ],
          "font": {
           "color": "#2a3f5f"
          },
          "geo": {
           "bgcolor": "white",
           "lakecolor": "white",
           "landcolor": "#E5ECF6",
           "showlakes": true,
           "showland": true,
           "subunitcolor": "white"
          },
          "hoverlabel": {
           "align": "left"
          },
          "hovermode": "closest",
          "mapbox": {
           "style": "light"
          },
          "paper_bgcolor": "white",
          "plot_bgcolor": "#E5ECF6",
          "polar": {
           "angularaxis": {
            "gridcolor": "white",
            "linecolor": "white",
            "ticks": ""
           },
           "bgcolor": "#E5ECF6",
           "radialaxis": {
            "gridcolor": "white",
            "linecolor": "white",
            "ticks": ""
           }
          },
          "scene": {
           "xaxis": {
            "backgroundcolor": "#E5ECF6",
            "gridcolor": "white",
            "gridwidth": 2,
            "linecolor": "white",
            "showbackground": true,
            "ticks": "",
            "zerolinecolor": "white"
           },
           "yaxis": {
            "backgroundcolor": "#E5ECF6",
            "gridcolor": "white",
            "gridwidth": 2,
            "linecolor": "white",
            "showbackground": true,
            "ticks": "",
            "zerolinecolor": "white"
           },
           "zaxis": {
            "backgroundcolor": "#E5ECF6",
            "gridcolor": "white",
            "gridwidth": 2,
            "linecolor": "white",
            "showbackground": true,
            "ticks": "",
            "zerolinecolor": "white"
           }
          },
          "shapedefaults": {
           "line": {
            "color": "#2a3f5f"
           }
          },
          "ternary": {
           "aaxis": {
            "gridcolor": "white",
            "linecolor": "white",
            "ticks": ""
           },
           "baxis": {
            "gridcolor": "white",
            "linecolor": "white",
            "ticks": ""
           },
           "bgcolor": "#E5ECF6",
           "caxis": {
            "gridcolor": "white",
            "linecolor": "white",
            "ticks": ""
           }
          },
          "title": {
           "x": 0.05
          },
          "xaxis": {
           "automargin": true,
           "gridcolor": "white",
           "linecolor": "white",
           "ticks": "",
           "title": {
            "standoff": 15
           },
           "zerolinecolor": "white",
           "zerolinewidth": 2
          },
          "yaxis": {
           "automargin": true,
           "gridcolor": "white",
           "linecolor": "white",
           "ticks": "",
           "title": {
            "standoff": 15
           },
           "zerolinecolor": "white",
           "zerolinewidth": 2
          }
         }
        },
        "title": {
         "text": "Cluster Heatmap mit Bins"
        },
        "xaxis": {
         "anchor": "y",
         "constrain": "domain",
         "domain": [
          0,
          1
         ],
         "scaleanchor": "y",
         "title": {
          "text": "Center X"
         }
        },
        "yaxis": {
         "anchor": "x",
         "autorange": "reversed",
         "constrain": "domain",
         "domain": [
          0,
          1
         ],
         "title": {
          "text": "Center Y"
         }
        }
       }
      }
     },
     "metadata": {},
     "output_type": "display_data"
    }
   ],
   "source": [
    "import pandas as pd\n",
    "import numpy as np\n",
    "import plotly.express as px\n",
    "\n",
    "# Angenommen, df ist dein vorhandener DataFrame\n",
    "# Beispielhafte Struktur des DataFrames:\n",
    "# df = pd.DataFrame({\n",
    "#     'Center X': [...],\n",
    "#     'Center Y': [...],\n",
    "#     'Area': [...]\n",
    "# })\n",
    "\n",
    "# Definiere die Bin-Grenzen\n",
    "x_bins = np.arange(0, df['Center X'].max() + 50, 50)  # Binning für Center X\n",
    "y_bins = np.arange(0, df['Center Y'].max() + 50, 50)  # Binning für Center Y\n",
    "\n",
    "# Teile die Daten in Bins ein\n",
    "df['x_bin'] = pd.cut(df['Center X'], bins=x_bins, labels=x_bins[:-1], include_lowest=True)\n",
    "df['y_bin'] = pd.cut(df['Center Y'], bins=y_bins, labels=y_bins[:-1], include_lowest=True)\n",
    "\n",
    "# Erstelle eine Pivot-Tabelle\n",
    "heatmap_data = df.pivot_table(index='y_bin', columns='x_bin', values='Area', aggfunc='max')\n",
    "\n",
    "# Erstelle die Heatmap\n",
    "fig = px.imshow(\n",
    "    heatmap_data,\n",
    "    color_continuous_scale= 'turbo',  # Farbskala 'Viridis'\n",
    "    labels={'color': 'Cluster ID'},\n",
    "    x=heatmap_data.columns,  # Spaltennamen für die x-Achse\n",
    "    y=heatmap_data.index,    # Zeilennamen für die y-Achse\n",
    "    text_auto=True           # Automatische Anzeige der Cluster-ID in den Zellen\n",
    ")\n",
    "\n",
    "# Layout anpassen und Diagramm anzeigen\n",
    "fig.update_layout(\n",
    "    title='Cluster Heatmap mit Bins',\n",
    "    xaxis_title='Center X',\n",
    "    yaxis_title='Center Y'\n",
    ")\n",
    "\n",
    "fig.show()\n",
    "\n",
    "\n"
   ]
  },
  {
   "cell_type": "code",
   "execution_count": null,
   "metadata": {},
   "outputs": [],
   "source": []
  }
 ],
 "metadata": {
  "kernelspec": {
   "display_name": "base",
   "language": "python",
   "name": "python3"
  },
  "language_info": {
   "codemirror_mode": {
    "name": "ipython",
    "version": 3
   },
   "file_extension": ".py",
   "mimetype": "text/x-python",
   "name": "python",
   "nbconvert_exporter": "python",
   "pygments_lexer": "ipython3",
   "version": "3.12.3"
  }
 },
 "nbformat": 4,
 "nbformat_minor": 2
}
